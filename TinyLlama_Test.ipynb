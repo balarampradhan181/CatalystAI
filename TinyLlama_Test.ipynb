{
  "nbformat": 4,
  "nbformat_minor": 0,
  "metadata": {
    "colab": {
      "provenance": [],
      "toc_visible": true,
      "authorship_tag": "ABX9TyM4QltxM+tC6PjUrCN8shpY",
      "include_colab_link": true
    },
    "kernelspec": {
      "name": "python3",
      "display_name": "Python 3"
    },
    "language_info": {
      "name": "python"
    }
  },
  "cells": [
    {
      "cell_type": "markdown",
      "metadata": {
        "id": "view-in-github",
        "colab_type": "text"
      },
      "source": [
        "<a href=\"https://colab.research.google.com/github/balarampradhan181/CatalystAI/blob/main/TinyLlama_Test.ipynb\" target=\"_parent\"><img src=\"https://colab.research.google.com/assets/colab-badge.svg\" alt=\"Open In Colab\"/></a>"
      ]
    },
    {
      "cell_type": "code",
      "execution_count": 2,
      "metadata": {
        "colab": {
          "base_uri": "https://localhost:8080/"
        },
        "id": "kYa2OPkcT9xo",
        "outputId": "a820d801-37c6-4edd-c961-fa77b6db6d61"
      },
      "outputs": [
        {
          "output_type": "stream",
          "name": "stdout",
          "text": [
            "Requirement already satisfied: sentencepiece in /usr/local/lib/python3.10/dist-packages (0.1.99)\n"
          ]
        }
      ],
      "source": [
        "# install dependencies\n",
        "\n",
        "# we use the latest version of transformers, peft, and accelerate\n",
        "!pip install -q accelerate peft transformers\n",
        "\n",
        "# install bitsandbytes for quantization\n",
        "!pip install -q bitsandbytes\n",
        "\n",
        "# install trl for the SFT library\n",
        "!pip install -q trl\n",
        "\n",
        "# we need sentencepiece for the llama2 slow tokenizer\n",
        "!pip install sentencepiece\n",
        "\n",
        "# we need einops, used by falcon-7b, llama-2 etc\n",
        "# einops (einsteinops) is used to simplify tensorops by making them readable\n",
        "!pip install -q -U einops\n",
        "\n",
        "# we need to install datasets for our training dataset\n",
        "!pip install -q datasets"
      ]
    },
    {
      "cell_type": "code",
      "source": [
        "# The model that you want to train from the Hugging Face hub\n",
        "model_name = \"NousResearch/Llama-2-7b-chat-hf\"\n",
        "\n",
        "# The instruction dataset to use\n",
        "dataset_name = \"chrishayuk/test\"\n",
        "\n",
        "# Fine-tuned model name\n",
        "new_model = \"llama-2-7b-chuk-test\"\n",
        "\n",
        "# Output directory where the model predictions and checkpoints will be stored\n",
        "output_dir = \"./results\"\n",
        "\n",
        "# Number of training epochs\n",
        "num_train_epochs = 20"
      ],
      "metadata": {
        "id": "3Lez0cKkqVvK"
      },
      "execution_count": 3,
      "outputs": []
    },
    {
      "cell_type": "code",
      "source": [],
      "metadata": {
        "id": "x1X9YC7Equ1H"
      },
      "execution_count": null,
      "outputs": []
    }
  ]
}